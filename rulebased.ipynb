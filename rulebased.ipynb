{
 "cells": [
  {
   "cell_type": "code",
   "execution_count": 2,
   "metadata": {},
   "outputs": [],
   "source": [
    "import spacy\n",
    "import pandas as pd\n",
    "from spacy import displacy\n",
    "from spacy.matcher import Matcher as mt"
   ]
  },
  {
   "cell_type": "code",
   "execution_count": null,
   "metadata": {},
   "outputs": [],
   "source": [
    "nlp = spacy.load('en_core_web_sm')\n",
    "#print(nlp.pipe_names)"
   ]
  },
  {
   "cell_type": "code",
   "execution_count": 49,
   "metadata": {},
   "outputs": [],
   "source": [
    "def hasProgLang (doc):\n",
    "    for i in doc:\n",
    "        if i.lower_ in ['go', 'golang', 'python', 'objective-c']:\n",
    "            if i.pos_ != 'VERB':\n",
    "                return True\n",
    "    return False"
   ]
  },
  {
   "cell_type": "code",
   "execution_count": 53,
   "metadata": {},
   "outputs": [
    {
     "data": {
      "text/plain": [
       "False"
      ]
     },
     "execution_count": 53,
     "metadata": {},
     "output_type": "execute_result"
    }
   ],
   "source": [
    "doc = nlp('I am learning how to program in objective-c')\n",
    "hasProgLang(doc)"
   ]
  },
  {
   "cell_type": "code",
   "execution_count": 54,
   "metadata": {},
   "outputs": [
    {
     "data": {
      "text/plain": [
       "[I, am, learning, how, to, program, in, objective, -, c]"
      ]
     },
     "execution_count": 54,
     "metadata": {},
     "output_type": "execute_result"
    }
   ],
   "source": [
    "[t for t in doc]"
   ]
  },
  {
   "cell_type": "code",
   "execution_count": null,
   "metadata": {},
   "outputs": [],
   "source": [
    "displacy.render(doc)"
   ]
  },
  {
   "cell_type": "markdown",
   "metadata": {},
   "source": [
    "<h1>Using Matcher</h1>"
   ]
  },
  {
   "cell_type": "code",
   "execution_count": 55,
   "metadata": {},
   "outputs": [],
   "source": [
    "matcher = mt(nlp.vocab)\n",
    "\n",
    "pattern_objc = [{'LOWER': 'objective'}, {'IS_PUNCT': True, 'OP' : '?'}, {'LOWER': 'c'}, ]\n",
    "pattern_objc2 = [{'LOWER': 'objectivec'}]\n",
    "\n",
    "matcher.add('objc', [pattern_objc])\n",
    "matcher.add('objc2', [pattern_objc2])"
   ]
  },
  {
   "cell_type": "markdown",
   "metadata": {},
   "source": [
    "<img src = 'img/opDescrip.PNG'>"
   ]
  },
  {
   "cell_type": "code",
   "execution_count": 57,
   "metadata": {},
   "outputs": [
    {
     "data": {
      "text/plain": [
       "[(1511212164044119274, 7, 10), (9524823172730451013, 11, 12)]"
      ]
     },
     "execution_count": 57,
     "metadata": {},
     "output_type": "execute_result"
    }
   ],
   "source": [
    "doc = nlp('I am learning how to program in OBJECTIVE-C, objectivec')\n",
    "matcher(doc)"
   ]
  },
  {
   "cell_type": "code",
   "execution_count": 59,
   "metadata": {},
   "outputs": [
    {
     "data": {
      "text/plain": [
       "(None, [[{'LOWER': 'objectivec'}]])"
      ]
     },
     "execution_count": 59,
     "metadata": {},
     "output_type": "execute_result"
    }
   ],
   "source": [
    "matcher.get(9524823172730451013)"
   ]
  },
  {
   "cell_type": "code",
   "execution_count": 61,
   "metadata": {},
   "outputs": [
    {
     "data": {
      "text/plain": [
       "objectivec"
      ]
     },
     "execution_count": 61,
     "metadata": {},
     "output_type": "execute_result"
    }
   ],
   "source": [
    "doc[11:]"
   ]
  },
  {
   "cell_type": "code",
   "execution_count": 62,
   "metadata": {},
   "outputs": [
    {
     "data": {
      "text/plain": [
       "[(1511212164044119274, 7, 10), (8004577259940138793, 13, 14)]"
      ]
     },
     "execution_count": 62,
     "metadata": {},
     "output_type": "execute_result"
    }
   ],
   "source": [
    "pattern_go = [{'LOWER': \n",
    "                   {'IN': ['go', 'golang']}, \n",
    "               'POS': \n",
    "                   {'NOT_IN': ['VERB']}\n",
    "              }]\n",
    "matcher.add('go', [pattern_go])\n",
    "doc = nlp('I am learning how to program in objective-c as well in Go')\n",
    "matcher(doc)"
   ]
  },
  {
   "cell_type": "code",
   "execution_count": 63,
   "metadata": {},
   "outputs": [
    {
     "name": "stdout",
     "output_type": "stream",
     "text": [
      "objective-c\n",
      "Go\n"
     ]
    }
   ],
   "source": [
    "#print(doc[7:10])\n",
    "#print(doc[13:14])\n",
    "for match_id, start, end in matcher(doc):\n",
    "    print(doc[start:end])"
   ]
  },
  {
   "cell_type": "code",
   "execution_count": 76,
   "metadata": {},
   "outputs": [],
   "source": [
    "pattern_objc = [{'LOWER': 'objective'}, {'IS_PUNCT': True, 'OP' : '?'}, {'LOWER': 'c'}, {'IS_PUNCT' : True, 'OP': '*'}]\n",
    "pattern_go = [{'LOWER': 'go'}, {'POS': {'NOT_IN': ['VERB']}}]\n",
    "pattern_python = [{'LOWER': 'python'}]\n",
    "pattern_js = [{'LOWER': {'IN': ['js', 'javascript']}}]\n",
    "\n",
    "matcher.add('objc', [pattern_objc])\n",
    "matcher.add('go', [pattern_go])\n",
    "matcher.add('python', [pattern_python])\n",
    "matcher.add('js', [pattern_js])"
   ]
  },
  {
   "cell_type": "code",
   "execution_count": 66,
   "metadata": {},
   "outputs": [
    {
     "name": "stdout",
     "output_type": "stream",
     "text": [
      "Python\n",
      "Objective C\n",
      "JS\n"
     ]
    }
   ],
   "source": [
    "doc = nlp('I hope I have mastered Python, Objective C and JS in a few years')\n",
    "for match_id, start, end in matcher(doc):\n",
    "    print(doc[start:end])"
   ]
  },
  {
   "cell_type": "code",
   "execution_count": 68,
   "metadata": {},
   "outputs": [
    {
     "data": {
      "text/plain": [
       "a"
      ]
     },
     "execution_count": 68,
     "metadata": {},
     "output_type": "execute_result"
    }
   ],
   "source": [
    "doc = nlp('Go is a programming language')\n",
    "matcher(doc)\n",
    "doc[2:3]"
   ]
  },
  {
   "cell_type": "code",
   "execution_count": 69,
   "metadata": {},
   "outputs": [
    {
     "data": {
      "text/plain": [
       "[(Go, 'VERB'), (is, 'AUX'), (a, 'DET')]"
      ]
     },
     "execution_count": 69,
     "metadata": {},
     "output_type": "execute_result"
    }
   ],
   "source": [
    "[(i, i.pos_) for i in doc[:3]]"
   ]
  },
  {
   "cell_type": "markdown",
   "metadata": {},
   "source": [
    "<h1>Benchmarking</h1>"
   ]
  },
  {
   "cell_type": "code",
   "execution_count": 70,
   "metadata": {},
   "outputs": [],
   "source": [
    "df = (pd.read_csv(\"Questions.csv\", nrows=1_000_000, encoding=\"ISO-8859-1\", usecols=['Title', 'Id']))"
   ]
  },
  {
   "cell_type": "code",
   "execution_count": 77,
   "metadata": {},
   "outputs": [],
   "source": [
    "titles = (_ for _ in df['Title'] if \"objective-c\" in _.lower())"
   ]
  },
  {
   "cell_type": "code",
   "execution_count": 78,
   "metadata": {},
   "outputs": [
    {
     "name": "stdout",
     "output_type": "stream",
     "text": [
      "__OBJC__ equivalent for Objective-C++\n",
      "iPhone Device/Simulator memory oddities using Objective-C++\n",
      "Objective-C. I have typedef float DuglaType[3]. How do I declare the property for this?\n",
      "Learning Objective-C. Using Xcode 3.2.1. What is error: Program received signal: âEXC_ARITHMETICâ\n"
     ]
    }
   ],
   "source": [
    "for i in range(200):\n",
    "    doc = nlp(next(titles))\n",
    "    if len(matcher(doc)) == 0:\n",
    "        print(doc)"
   ]
  },
  {
   "cell_type": "code",
   "execution_count": 81,
   "metadata": {},
   "outputs": [
    {
     "data": {
      "text/plain": [
       "[_, _, OBJC, _, _, equivalent, for, Objective, -, C++]"
      ]
     },
     "execution_count": 81,
     "metadata": {},
     "output_type": "execute_result"
    }
   ],
   "source": [
    "doc = nlp('__OBJC__ equivalent for Objective-C++')\n",
    "[t for t in doc]"
   ]
  },
  {
   "cell_type": "code",
   "execution_count": null,
   "metadata": {},
   "outputs": [],
   "source": []
  }
 ],
 "metadata": {
  "kernelspec": {
   "display_name": "Python 3",
   "language": "python",
   "name": "python3"
  },
  "language_info": {
   "codemirror_mode": {
    "name": "ipython",
    "version": 3
   },
   "file_extension": ".py",
   "mimetype": "text/x-python",
   "name": "python",
   "nbconvert_exporter": "python",
   "pygments_lexer": "ipython3",
   "version": "3.8.5"
  }
 },
 "nbformat": 4,
 "nbformat_minor": 4
}
