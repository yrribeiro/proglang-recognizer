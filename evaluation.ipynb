{
 "cells": [
  {
   "cell_type": "code",
   "execution_count": 5,
   "metadata": {},
   "outputs": [],
   "source": [
    "import spacy\n",
    "from spacy.matcher import Matcher\n",
    "\n",
    "nlp = spacy.load('en_core_web_sm')"
   ]
  },
  {
   "cell_type": "code",
   "execution_count": 3,
   "metadata": {},
   "outputs": [],
   "source": [
    "import pandas as pd\n",
    "data = (pd.read_csv('Questions.csv', nrows=1_000_000, encoding='ISO-8859-1', usecols=['Title', 'Id']))"
   ]
  },
  {
   "cell_type": "code",
   "execution_count": 7,
   "metadata": {},
   "outputs": [],
   "source": [
    "matcher = Matcher(nlp.vocab)\n",
    "pattern_objc1 = [{'LOWER': 'objective'}, {'IS_PUNCT': True, 'OP': '?'}, {'LOWER': 'c'}]\n",
    "pattern_objc2 = [{'LOWER': 'objectivec'}]\n",
    "pattern_py = [{'LOWER': 'python'}]\n",
    "pattern_js = [{'LOWER': {'IN': ['js', 'javascript']}}]\n",
    "pattern_css = [{'LOWER': 'css'}]\n",
    "pattern_go = [{'LOWER': 'go', 'POS': {'NOT_IN': ['VERB']}}]\n",
    "pattern_golang = [{'LOWER': 'golang'}]\n",
    "pattern_c = [{'LOWER': 'c'}]\n",
    "pattern_cplus = [{'LOWER': 'c++'}]\n",
    "pattern_ruby = [{'LOWER': 'ruby'}]\n",
    "pattern_java = [{'LOWER': 'java'}]\n",
    "pattern_php = [{'LOWER': 'php'}]\n",
    "\n",
    "matcher.add('objc', [pattern_objc1, pattern_objc2])\n",
    "matcher.add('py', [pattern_py])\n",
    "matcher.add('js', [pattern_js])\n",
    "matcher.add('css', [pattern_css])\n",
    "matcher.add('go', [pattern_go, pattern_golang])\n",
    "matcher.add('c', [pattern_c, pattern_cplus])\n",
    "matcher.add('ruby', [pattern_ruby])\n",
    "matcher.add('java', [pattern_java])\n",
    "matcher.add('php', [pattern_php])"
   ]
  },
  {
   "cell_type": "code",
   "execution_count": 34,
   "metadata": {},
   "outputs": [
    {
     "name": "stdout",
     "output_type": "stream",
     "text": [
      "How do I connect to a database and loop over a recordset in C#?\n",
      "How do I delete a file which is locked by another process in C#?\n",
      "Good STL-like library for C\n",
      "MySQL/Apache Error in PHP MySQL query\n",
      "How to set up unit testing for Visual Studio C++\n",
      "How do you pack a visual studio c++ project for release?\n",
      "How do I run Rake tasks within a Ruby script?\n",
      "What code analysis tools do you use for your Java projects?\n",
      "How to easily consume a web service from PHP\n",
      "How can I create Prototype Methods (like JavaScript) in C#.Net?\n"
     ]
    }
   ],
   "source": [
    "titles = (_ for _ in data['Title'])\n",
    "g = (i for i in nlp.pipe(titles) if len(matcher(i))>0)\n",
    "for j in range(10):\n",
    "    print(next(g))"
   ]
  },
  {
   "cell_type": "markdown",
   "metadata": {},
   "source": [
    "<h1>Labelling</h1>"
   ]
  },
  {
   "cell_type": "code",
   "execution_count": 2,
   "metadata": {},
   "outputs": [],
   "source": [
    "import numpy as np\n",
    "from sklearn.metrics import confusion_matrix, classification_report"
   ]
  },
  {
   "cell_type": "code",
   "execution_count": 28,
   "metadata": {},
   "outputs": [],
   "source": [
    "data['Label'] = ''\n",
    "header = ['Label', 'Title']\n",
    "data[header].to_excel('labels.xlsx', index=False)"
   ]
  },
  {
   "cell_type": "code",
   "execution_count": 8,
   "metadata": {},
   "outputs": [],
   "source": [
    "label_data = (pd.read_excel('labels.xlsx')[['Label', 'Title']]\n",
    " .iloc[:508]\n",
    " .assign(Pred=lambda d: [len(matcher(d)) > 0 for d in nlp.pipe(d['Title'])])\n",
    " .assign(Label=lambda d: d['Label'].astype(np.int8))\n",
    " .assign(Pred=lambda d: d['Pred'].astype(np.int8)))"
   ]
  },
  {
   "cell_type": "code",
   "execution_count": 35,
   "metadata": {},
   "outputs": [
    {
     "data": {
      "text/plain": [
       "array([[411,  14],\n",
       "       [  8,  75]], dtype=int64)"
      ]
     },
     "execution_count": 35,
     "metadata": {},
     "output_type": "execute_result"
    }
   ],
   "source": [
    "confusion_matrix(label_data['Label'], label_data['Pred'])"
   ]
  },
  {
   "cell_type": "markdown",
   "metadata": {},
   "source": [
    "<img src='img/confusion.png'>"
   ]
  },
  {
   "cell_type": "code",
   "execution_count": 36,
   "metadata": {},
   "outputs": [
    {
     "name": "stdout",
     "output_type": "stream",
     "text": [
      "              precision    recall  f1-score   support\n",
      "\n",
      "           0       0.98      0.97      0.97       425\n",
      "           1       0.84      0.90      0.87        83\n",
      "\n",
      "    accuracy                           0.96       508\n",
      "   macro avg       0.91      0.94      0.92       508\n",
      "weighted avg       0.96      0.96      0.96       508\n",
      "\n"
     ]
    }
   ],
   "source": [
    "print(classification_report(label_data['Label'], label_data['Pred']))"
   ]
  },
  {
   "cell_type": "code",
   "execution_count": null,
   "metadata": {},
   "outputs": [],
   "source": []
  }
 ],
 "metadata": {
  "kernelspec": {
   "display_name": "Python 3",
   "language": "python",
   "name": "python3"
  },
  "language_info": {
   "codemirror_mode": {
    "name": "ipython",
    "version": 3
   },
   "file_extension": ".py",
   "mimetype": "text/x-python",
   "name": "python",
   "nbconvert_exporter": "python",
   "pygments_lexer": "ipython3",
   "version": "3.8.5"
  }
 },
 "nbformat": 4,
 "nbformat_minor": 4
}
